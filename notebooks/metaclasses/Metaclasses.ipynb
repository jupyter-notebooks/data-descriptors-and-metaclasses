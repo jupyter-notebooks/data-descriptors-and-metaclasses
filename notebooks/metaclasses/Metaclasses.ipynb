{
 "metadata": {
  "name": "Metaclasses"
 },
 "nbformat": 3,
 "nbformat_minor": 0,
 "worksheets": [
  {
   "cells": [
    {
     "cell_type": "heading",
     "level": 1,
     "metadata": {},
     "source": [
      "Metaclasses"
     ]
    },
    {
     "cell_type": "heading",
     "level": 4,
     "metadata": {},
     "source": [
      "Same relation to a class as a class is to an instance"
     ]
    },
    {
     "cell_type": "code",
     "collapsed": false,
     "input": [
      "# Uses new style class\n",
      "class A(object):\n",
      "    pass"
     ],
     "language": "python",
     "metadata": {},
     "outputs": [],
     "prompt_number": 1
    },
    {
     "cell_type": "code",
     "collapsed": false,
     "input": [
      "type(A)"
     ],
     "language": "python",
     "metadata": {},
     "outputs": [
      {
       "metadata": {},
       "output_type": "pyout",
       "prompt_number": 2,
       "text": [
        "type"
       ]
      }
     ],
     "prompt_number": 2
    },
    {
     "cell_type": "code",
     "collapsed": false,
     "input": [
      "class B:\n",
      "    pass"
     ],
     "language": "python",
     "metadata": {},
     "outputs": [],
     "prompt_number": 3
    },
    {
     "cell_type": "code",
     "collapsed": false,
     "input": [
      "type(B)"
     ],
     "language": "python",
     "metadata": {},
     "outputs": [
      {
       "metadata": {},
       "output_type": "pyout",
       "prompt_number": 4,
       "text": [
        "classobj"
       ]
      }
     ],
     "prompt_number": 4
    },
    {
     "cell_type": "code",
     "collapsed": false,
     "input": [
      "# Example not inheriting from object (new style)\n",
      "class C:\n",
      "    __metaclass__ = type"
     ],
     "language": "python",
     "metadata": {},
     "outputs": [],
     "prompt_number": 5
    },
    {
     "cell_type": "code",
     "collapsed": false,
     "input": [
      "type(C)"
     ],
     "language": "python",
     "metadata": {},
     "outputs": [
      {
       "metadata": {},
       "output_type": "pyout",
       "prompt_number": 6,
       "text": [
        "type"
       ]
      }
     ],
     "prompt_number": 6
    },
    {
     "cell_type": "code",
     "collapsed": false,
     "input": [
      "# Python 3 using old syntax\n",
      "%%python3\n",
      "class C:\n",
      "    __metaclass__ = type\n",
      "print(type(C))\n",
      "\n",
      "# Python 3 using new syntax\n",
      "class C(metaclass=type):\n",
      "    pass\n",
      "print(type(C))"
     ],
     "language": "python",
     "metadata": {},
     "outputs": [
      {
       "output_type": "stream",
       "stream": "stdout",
       "text": [
        "Couldn't find program: u'python3'\n"
       ]
      }
     ],
     "prompt_number": 8
    },
    {
     "cell_type": "code",
     "collapsed": false,
     "input": [
      "# Inherits from object\n",
      "A.__bases__"
     ],
     "language": "python",
     "metadata": {},
     "outputs": [
      {
       "metadata": {},
       "output_type": "pyout",
       "prompt_number": 9,
       "text": [
        "(object,)"
       ]
      }
     ],
     "prompt_number": 9
    },
    {
     "cell_type": "code",
     "collapsed": false,
     "input": [
      "# Globals may have attribute called __metaclass__\n",
      "len(dir(globals()))"
     ],
     "language": "python",
     "metadata": {},
     "outputs": [
      {
       "metadata": {},
       "output_type": "pyout",
       "prompt_number": 11,
       "text": [
        "46"
       ]
      }
     ],
     "prompt_number": 11
    },
    {
     "cell_type": "code",
     "collapsed": false,
     "input": [
      "globals()['__metaclass__']"
     ],
     "language": "python",
     "metadata": {},
     "outputs": [
      {
       "ename": "KeyError",
       "evalue": "'__metaclass__'",
       "output_type": "pyerr",
       "traceback": [
        "\u001b[1;31m---------------------------------------------------------------------------\u001b[0m\n\u001b[1;31mKeyError\u001b[0m                                  Traceback (most recent call last)",
        "\u001b[1;32m<ipython-input-12-e7ab807ca7c1>\u001b[0m in \u001b[0;36m<module>\u001b[1;34m()\u001b[0m\n\u001b[1;32m----> 1\u001b[1;33m \u001b[0mglobals\u001b[0m\u001b[1;33m(\u001b[0m\u001b[1;33m)\u001b[0m\u001b[1;33m[\u001b[0m\u001b[1;34m'__metaclass__'\u001b[0m\u001b[1;33m]\u001b[0m\u001b[1;33m\u001b[0m\u001b[0m\n\u001b[0m",
        "\u001b[1;31mKeyError\u001b[0m: '__metaclass__'"
       ]
      }
     ],
     "prompt_number": 12
    },
    {
     "cell_type": "code",
     "collapsed": false,
     "input": [
      "# Setting this in your file will assign all new classes that don't automatically inherit a metaclass a metaclass\n",
      "# If converting old style classes to use metaclasses, this is all you need to do in the file \n",
      "# or else make each class' base inherit from object\n",
      "__metaclass__ = type"
     ],
     "language": "python",
     "metadata": {},
     "outputs": [],
     "prompt_number": 13
    },
    {
     "cell_type": "code",
     "collapsed": false,
     "input": [
      "class D:\n",
      "    pass"
     ],
     "language": "python",
     "metadata": {},
     "outputs": [],
     "prompt_number": 14
    },
    {
     "cell_type": "code",
     "collapsed": false,
     "input": [
      "type(D)"
     ],
     "language": "python",
     "metadata": {},
     "outputs": [
      {
       "metadata": {},
       "output_type": "pyout",
       "prompt_number": 15,
       "text": [
        "type"
       ]
      }
     ],
     "prompt_number": 15
    },
    {
     "cell_type": "code",
     "collapsed": false,
     "input": [
      "# Types library\n",
      "import types\n",
      "\n",
      "types.ClassType"
     ],
     "language": "python",
     "metadata": {},
     "outputs": [
      {
       "metadata": {},
       "output_type": "pyout",
       "prompt_number": 16,
       "text": [
        "classobj"
       ]
      }
     ],
     "prompt_number": 16
    },
    {
     "cell_type": "heading",
     "level": 4,
     "metadata": {},
     "source": [
      "Class construction"
     ]
    },
    {
     "cell_type": "code",
     "collapsed": false,
     "input": [
      "# Two ways of constructing a class\n",
      "class C(object):\n",
      "    x = 1"
     ],
     "language": "python",
     "metadata": {},
     "outputs": [],
     "prompt_number": 17
    },
    {
     "cell_type": "code",
     "collapsed": false,
     "input": [
      "# name, tuple(bases), dict(namespace)\n",
      "C = type('C', (object,), {'x': 1})\n",
      "# -OR-\n",
      "C = type('C', (object,), dict(x=1))"
     ],
     "language": "python",
     "metadata": {},
     "outputs": [],
     "prompt_number": 1
    },
    {
     "cell_type": "code",
     "collapsed": false,
     "input": [
      "C.x"
     ],
     "language": "python",
     "metadata": {},
     "outputs": [
      {
       "metadata": {},
       "output_type": "pyout",
       "prompt_number": 2,
       "text": [
        "1"
       ]
      }
     ],
     "prompt_number": 2
    },
    {
     "cell_type": "code",
     "collapsed": false,
     "input": [
      "# just a function\n",
      "def __init__(self, a):\n",
      "    self.a = a"
     ],
     "language": "python",
     "metadata": {},
     "outputs": [],
     "prompt_number": 3
    },
    {
     "cell_type": "code",
     "collapsed": false,
     "input": [
      "# just a function\n",
      "def add(self, a, b):\n",
      "    return a + b"
     ],
     "language": "python",
     "metadata": {},
     "outputs": [],
     "prompt_number": 4
    },
    {
     "cell_type": "code",
     "collapsed": false,
     "input": [
      "# Construct a class on the fly adding the functions to the object and making them immediately accessible\n",
      "C = type('C', (object,), {'x': 1, '__init__': __init__, 'add': add})"
     ],
     "language": "python",
     "metadata": {},
     "outputs": [],
     "prompt_number": 5
    },
    {
     "cell_type": "code",
     "collapsed": false,
     "input": [
      "C.x"
     ],
     "language": "python",
     "metadata": {},
     "outputs": [
      {
       "metadata": {},
       "output_type": "pyout",
       "prompt_number": 6,
       "text": [
        "1"
       ]
      }
     ],
     "prompt_number": 6
    },
    {
     "cell_type": "code",
     "collapsed": false,
     "input": [
      "C.add"
     ],
     "language": "python",
     "metadata": {},
     "outputs": [
      {
       "metadata": {},
       "output_type": "pyout",
       "prompt_number": 8,
       "text": [
        "<unbound method C.add>"
       ]
      }
     ],
     "prompt_number": 8
    },
    {
     "cell_type": "code",
     "collapsed": false,
     "input": [
      "class NewMeta(type):\n",
      "    '''\n",
      "    Do something to change the behavior of the class\n",
      "    Usually something during __new__ or __init__\n",
      "    '''\n",
      "    def __str__(cls):\n",
      "        '''Instead of self, use cls'''\n",
      "        return 'I am a class with name: ' + cls.__name__"
     ],
     "language": "python",
     "metadata": {},
     "outputs": [],
     "prompt_number": 23
    },
    {
     "cell_type": "code",
     "collapsed": false,
     "input": [
      "class X:\n",
      "    __metaclass__ = NewMeta"
     ],
     "language": "python",
     "metadata": {},
     "outputs": [],
     "prompt_number": 24
    },
    {
     "cell_type": "code",
     "collapsed": false,
     "input": [
      "str(X)"
     ],
     "language": "python",
     "metadata": {},
     "outputs": [
      {
       "metadata": {},
       "output_type": "pyout",
       "prompt_number": 25,
       "text": [
        "'I am a class with name: X'"
       ]
      }
     ],
     "prompt_number": 25
    },
    {
     "cell_type": "code",
     "collapsed": false,
     "input": [
      "str(A)"
     ],
     "language": "python",
     "metadata": {},
     "outputs": [
      {
       "metadata": {},
       "output_type": "pyout",
       "prompt_number": 26,
       "text": [
        "\"<class '__main__.A'>\""
       ]
      }
     ],
     "prompt_number": 26
    },
    {
     "cell_type": "heading",
     "level": 4,
     "metadata": {},
     "source": [
      "In practice"
     ]
    },
    {
     "cell_type": "code",
     "collapsed": false,
     "input": [
      "class MyMeta(type):\n",
      "    def __new__(metaclass, name, bases, class_dict):\n",
      "        '''Happens when class is defined, always returns the class'''\n",
      "        print 'metaclass', metaclass\n",
      "        print 'name', name\n",
      "        print 'bases', bases\n",
      "        print 'class dict', class_dict\n",
      "        \n",
      "        return super(MyMeta, metaclass).__new__(metaclass, name, bases, class_dict)"
     ],
     "language": "python",
     "metadata": {},
     "outputs": [],
     "prompt_number": 9
    },
    {
     "cell_type": "code",
     "collapsed": false,
     "input": [
      "class MyClass:\n",
      "    __metaclass__ = MyMeta"
     ],
     "language": "python",
     "metadata": {},
     "outputs": [
      {
       "output_type": "stream",
       "stream": "stdout",
       "text": [
        "metaclass <class '__main__.MyMeta'>\n",
        "name MyClass\n",
        "bases ()\n",
        "class dict {'__module__': '__main__', '__metaclass__': <class '__main__.MyMeta'>}\n"
       ]
      }
     ],
     "prompt_number": 12
    },
    {
     "cell_type": "code",
     "collapsed": false,
     "input": [
      "class MyMeta(type):\n",
      "    def __init__(cls, name, bases, cdict):\n",
      "        '''Happens when class is defined'''\n",
      "        print 'class', cls\n",
      "        print 'name', name\n",
      "        print 'bases', bases\n",
      "        print 'class dict', cdict\n",
      "        # No return needed for __init__\n",
      "        super(MyMeta, cls).__init__(name, bases, cdict)"
     ],
     "language": "python",
     "metadata": {},
     "outputs": [],
     "prompt_number": 17
    },
    {
     "cell_type": "code",
     "collapsed": false,
     "input": [
      "class MyClass2:\n",
      "    __metaclass__ = MyMeta"
     ],
     "language": "python",
     "metadata": {},
     "outputs": [
      {
       "output_type": "stream",
       "stream": "stdout",
       "text": [
        "class <class '__main__.MyClass2'>\n",
        "name MyClass2\n",
        "bases ()\n",
        "class dict {'__module__': '__main__', '__metaclass__': <class '__main__.MyMeta'>}\n"
       ]
      }
     ],
     "prompt_number": 18
    },
    {
     "cell_type": "heading",
     "level": 4,
     "metadata": {},
     "source": [
      "Example 1: Enforce all class attributes to be methods (callable)"
     ]
    },
    {
     "cell_type": "code",
     "collapsed": false,
     "input": [
      "%load noclassattr.py"
     ],
     "language": "python",
     "metadata": {},
     "outputs": [],
     "prompt_number": 40
    },
    {
     "cell_type": "code",
     "collapsed": false,
     "input": [
      "#file: noclassattr.py\n",
      "\n",
      "\"\"\"Preventing non-callable class attributes with a metaclass\n",
      "\"\"\"\n",
      "\n",
      "class NoClassAttributes(type):\n",
      "    \"\"\"No non-callable class attributes allowed\n",
      "    \"\"\"\n",
      "    def __init__(cls, name, bases, cdict):\n",
      "        allowed = set(['__module__', '__metaclass__', '__doc__'])\n",
      "        for key, value in cdict.items():\n",
      "            if ((key not in allowed) and\n",
      "            (not hasattr(value, '__call__'))):\n",
      "                msg = 'Found non-callable class attribute \"%s\". ' % key\n",
      "                msg += 'Only methods are allowed.'\n",
      "                raise Exception(msg)\n",
      "        super(NoClassAttributes, cls).__init__(name, bases, cdict)\n",
      "\n",
      "\n",
      "if __name__ == '__main__':\n",
      "\n",
      "    class AttributeLess:\n",
      "        \"\"\"Only methods work.\n",
      "        \"\"\"\n",
      "        __metaclass__ = NoClassAttributes\n",
      "        def meth(self):\n",
      "            \"\"\"This is allowed'\n",
      "            \"\"\"\n",
      "            print 'Hello from AttributeLess.'\n",
      "\n",
      "    attributeless = AttributeLess()\n",
      "    attributeless.meth()\n",
      "\n",
      "\n",
      "    class WithAttribute:\n",
      "        \"\"\"Has non-callable class attribute.\n",
      "        Will raise an exception.\n",
      "        \"\"\"\n",
      "        __metaclass__ = NoClassAttributes\n",
      "        # this will fail during compile time\n",
      "        # helpful, since it errors early on\n",
      "        # maybe not so helpful for users who don't understand metaclasses\n",
      "        # so use wisely and be descriptive in communicating to your user base\n",
      "        #a = 10\n",
      "        def meth(self):\n",
      "            \"\"\"This is allowed'\n",
      "            \"\"\"\n",
      "            print 'Hello from WithAttribute'\n",
      "\n"
     ],
     "language": "python",
     "metadata": {},
     "outputs": [
      {
       "output_type": "stream",
       "stream": "stdout",
       "text": [
        "Hello from AttributeLess.\n"
       ]
      }
     ],
     "prompt_number": 46
    },
    {
     "cell_type": "code",
     "collapsed": false,
     "input": [
      "%load slotstyped.py"
     ],
     "language": "python",
     "metadata": {},
     "outputs": [],
     "prompt_number": 42
    },
    {
     "cell_type": "code",
     "collapsed": false,
     "input": [
      "# file: slotstyped.py\n",
      "\n",
      "\"\"\"Use of descriptor and metaclass to get slots with\n",
      "given types.\n",
      "\"\"\"\n",
      "\n",
      "\n",
      "class TypDescriptor(object):\n",
      "    \"\"\"Descriptor with type.\n",
      "    \"\"\"\n",
      "\n",
      "    def __init__(self, data_type, default_value=None):\n",
      "        self.name = None\n",
      "        self.data_type = data_type\n",
      "        if default_value:\n",
      "            self.default_value = default_value\n",
      "        else:\n",
      "            self.default_value = data_type()\n",
      "\n",
      "    def __get__(self, instance, cls):\n",
      "        return getattr(instance, self.name, self.default_value)\n",
      "\n",
      "    def __set__(self, instance, value):\n",
      "        if not isinstance(value, self.data_type):\n",
      "            raise TypeError('Required data type is %s. Got %s' % (\n",
      "            self.data_type, type(value)))\n",
      "        setattr(instance, self.name, value)\n",
      "\n",
      "    def __delete__(self, instance):\n",
      "        raise AttributeError('Cannot delete %r' % instance)\n",
      "\n",
      "\n",
      "class TypeProtected(type):\n",
      "    \"\"\"Metaclass to save descriptor values in slots.\n",
      "    \"\"\"\n",
      "\n",
      "    def __new__(mcl, name, bases, cdict):\n",
      "        \"\"\"Slots one of the few instances we must use new, init is too late\n",
      "        \"\"\"\n",
      "        slots = []\n",
      "        for key, value in cdict.items():\n",
      "            if isinstance(value, TypDescriptor):\n",
      "                value.name = '_' + key\n",
      "                slots.append(value.name)\n",
      "        cdict['__slots__'] = slots\n",
      "        return super(TypeProtected, mcl).__new__(mcl, name, bases, cdict)\n",
      "\n",
      "\n",
      "#Python 3\n",
      "#class Typed(metaclass=TypeProtected):\n",
      "#    pass\n",
      "\n",
      "\n",
      "class Typed:\n",
      "    \"\"\"Easier to make all classes inherit from Typed, than inserting __metaclass__\n",
      "    into everything else\n",
      "    \"\"\"\n",
      "    __metaclass__ = TypeProtected\n",
      "\n",
      "\n",
      "class MyClass(Typed):\n",
      "    \"\"\"Construct this class with these two slots.  Anything other than these\n",
      "    type descriptor slots will not work\n",
      "    \"\"\"\n",
      "    attr1 = TypDescriptor(int)\n",
      "    attr2 = TypDescriptor(float, 5.5)\n",
      "\n",
      "\n",
      "if __name__ == '__main__':\n",
      "\n",
      "    def main():\n",
      "        \"\"\"Test it.\n",
      "        \"\"\"\n",
      "        my_inst = MyClass()\n",
      "        print type(my_inst.attr1)\n",
      "        print my_inst.attr2\n",
      "        print dir(my_inst)\n",
      "        print my_inst.__slots__\n",
      "        my_inst.attr2 = 200.1\n",
      "        print my_inst.attr2\n",
      "        # this will fail\n",
      "        #my_inst.attr1 = 100.0\n",
      "        # this will fail\n",
      "        #my_inst.unknown = 100\n",
      "\n",
      "    main()\n"
     ],
     "language": "python",
     "metadata": {},
     "outputs": [
      {
       "output_type": "stream",
       "stream": "stdout",
       "text": [
        "<type 'int'>\n",
        "5.5\n",
        "['__class__', '__delattr__', '__doc__', '__format__', '__getattribute__', '__hash__', '__init__', '__metaclass__', '__module__', '__new__', '__reduce__', '__reduce_ex__', '__repr__', '__setattr__', '__sizeof__', '__slots__', '__str__', '__subclasshook__', '_attr1', '_attr2', 'attr1', 'attr2']\n",
        "['_attr2', '_attr1']\n",
        "200.1\n",
        "<type 'list'>\n"
       ]
      }
     ],
     "prompt_number": 28
    },
    {
     "cell_type": "heading",
     "level": 4,
     "metadata": {},
     "source": [
      "Inspecting"
     ]
    },
    {
     "cell_type": "code",
     "collapsed": false,
     "input": [
      "%load autometa_python2.py"
     ],
     "language": "python",
     "metadata": {},
     "outputs": [],
     "prompt_number": 47
    },
    {
     "cell_type": "code",
     "collapsed": false,
     "input": [
      "# file: autometa_python2.py\n",
      "\n",
      "\"\"\"Example usage of a metaclass.\n",
      "\n",
      "We change the metaclass of classes that inherit from `object`.\n",
      "\"\"\"\n",
      "\n",
      "# importing builtin not considered clean unless you are\n",
      "# debugging and not giving code to anyone else\n",
      "import __builtin__\n",
      "\n",
      "# Set this to False to deactivate DebugMeta.\n",
      "DEBUG = True\n",
      "\n",
      "if DEBUG:\n",
      "    class DebugMeta(type):\n",
      "        \"\"\"Metaclass to be used for debugging.\n",
      "\n",
      "        \"\"\"\n",
      "        names = []\n",
      "        counter = 0\n",
      "\n",
      "        def __init__(cls, name, bases, cdict):\n",
      "            \"\"\"Store all class names and count how many classes are defined.\n",
      "            \"\"\"\n",
      "            if DebugMeta.counter:\n",
      "                DebugMeta.names.append('%s.%s' % (cls.__module__, name))\n",
      "                print 'Debug metaclass in action. %d' % DebugMeta.counter\n",
      "                print DebugMeta.names\n",
      "                super(DebugMeta, cls).__init__(name, bases, cdict)\n",
      "            DebugMeta.counter += 1\n",
      "\n",
      "    class new_object(object):\n",
      "        \"\"\"Replacement for the builtin `object`.\n",
      "        \"\"\"\n",
      "        __metaclass__ = DebugMeta\n",
      "\n",
      "    # We actually change a builtin.\n",
      "    # This is a very strong measure.\n",
      "    __builtin__.object = new_object\n",
      "    __builtin__.type = DebugMeta\n",
      "\n",
      "\n",
      "class SomeClass1(object):\n",
      "    \"\"\"Test class.\n",
      "    \"\"\"\n",
      "    pass\n",
      "\n",
      "\n",
      "class SomeClass2(object):\n",
      "    \"\"\"Test class.\n",
      "    \"\"\"\n",
      "    pass\n",
      "\n",
      "\n",
      "class SomeClass3():\n",
      "    \"\"\"Test class. Does NOT inherit from object.\n",
      "    \"\"\"\n",
      "    pass\n",
      "\n"
     ],
     "language": "python",
     "metadata": {},
     "outputs": [
      {
       "output_type": "stream",
       "stream": "stdout",
       "text": [
        "Debug metaclass in action. 1\n",
        "['__main__.SomeClass1']\n",
        "Debug metaclass in action. 2\n",
        "['__main__.SomeClass1', '__main__.SomeClass2']\n"
       ]
      }
     ],
     "prompt_number": 29
    },
    {
     "cell_type": "heading",
     "level": 4,
     "metadata": {},
     "source": [
      "Examples"
     ]
    },
    {
     "cell_type": "code",
     "collapsed": false,
     "input": [
      "class NameException(Exception):\n",
      "    '''Raised if name is too long or too short'''\n",
      "\n",
      "\n",
      "class NameChecked(type):\n",
      "    '''Check if class name is too long'''\n",
      "    def __init__(cls, name, bases, cdict):\n",
      "        for name, value in cdict.items():\n",
      "            if hasattr(value, '__call__'):\n",
      "                name_len = len(name)\n",
      "                if name_len > 30:\n",
      "                    msg = ' '.join(['The name \"%s\" is too long.' % name,\n",
      "                                     'Only 30 characters are allowed',\n",
      "                                     'it is %d characters in length' % name_len])\n",
      "                    raise NameException(msg)\n",
      "        super(NameChecked, cls).__init__(name, bases, cdict)\n",
      "\n",
      "\n",
      "if __name__ == '__main__':\n",
      "    \n",
      "    class Test:\n",
      "        '''Test'''\n",
      "        __metaclass__ = NameChecked\n",
      "        \n",
      "        def meth1(self):\n",
      "            '''test method with short name'''\n",
      "            pass\n",
      "        \n",
      "        def method_with_a_very_long_name_that_is_not_allowed(self):\n",
      "            '''test method with a very long name'''\n",
      "            pass"
     ],
     "language": "python",
     "metadata": {},
     "outputs": [
      {
       "ename": "NameException",
       "evalue": "The name \"method_with_a_very_long_name_that_is_not_allowed\" is too long. Only 30 characters are allowed it is 48 characters in length",
       "output_type": "pyerr",
       "traceback": [
        "\u001b[1;31m---------------------------------------------------------------------------\u001b[0m\n\u001b[1;31mNameException\u001b[0m                             Traceback (most recent call last)",
        "\u001b[1;32m<ipython-input-53-c17bd7b65bea>\u001b[0m in \u001b[0;36m<module>\u001b[1;34m()\u001b[0m\n\u001b[0;32m     19\u001b[0m \u001b[1;32mif\u001b[0m \u001b[0m__name__\u001b[0m \u001b[1;33m==\u001b[0m \u001b[1;34m'__main__'\u001b[0m\u001b[1;33m:\u001b[0m\u001b[1;33m\u001b[0m\u001b[0m\n\u001b[0;32m     20\u001b[0m \u001b[1;33m\u001b[0m\u001b[0m\n\u001b[1;32m---> 21\u001b[1;33m     \u001b[1;32mclass\u001b[0m \u001b[0mTest\u001b[0m\u001b[1;33m:\u001b[0m\u001b[1;33m\u001b[0m\u001b[0m\n\u001b[0m\u001b[0;32m     22\u001b[0m         \u001b[1;34m'''Test'''\u001b[0m\u001b[1;33m\u001b[0m\u001b[0m\n\u001b[0;32m     23\u001b[0m         \u001b[0m__metaclass__\u001b[0m \u001b[1;33m=\u001b[0m \u001b[0mNameChecked\u001b[0m\u001b[1;33m\u001b[0m\u001b[0m\n",
        "\u001b[1;32m<ipython-input-53-c17bd7b65bea>\u001b[0m in \u001b[0;36m__init__\u001b[1;34m(cls, name, bases, cdict)\u001b[0m\n\u001b[0;32m     13\u001b[0m                                      \u001b[1;34m'Only 30 characters are allowed'\u001b[0m\u001b[1;33m,\u001b[0m\u001b[1;33m\u001b[0m\u001b[0m\n\u001b[0;32m     14\u001b[0m                                      'it is %d characters in length' % name_len])\n\u001b[1;32m---> 15\u001b[1;33m                     \u001b[1;32mraise\u001b[0m \u001b[0mNameException\u001b[0m\u001b[1;33m(\u001b[0m\u001b[0mmsg\u001b[0m\u001b[1;33m)\u001b[0m\u001b[1;33m\u001b[0m\u001b[0m\n\u001b[0m\u001b[0;32m     16\u001b[0m         \u001b[0msuper\u001b[0m\u001b[1;33m(\u001b[0m\u001b[0mNameChecked\u001b[0m\u001b[1;33m,\u001b[0m \u001b[0mcls\u001b[0m\u001b[1;33m)\u001b[0m\u001b[1;33m.\u001b[0m\u001b[0m__init__\u001b[0m\u001b[1;33m(\u001b[0m\u001b[0mname\u001b[0m\u001b[1;33m,\u001b[0m \u001b[0mbases\u001b[0m\u001b[1;33m,\u001b[0m \u001b[0mcdict\u001b[0m\u001b[1;33m)\u001b[0m\u001b[1;33m\u001b[0m\u001b[0m\n\u001b[0;32m     17\u001b[0m \u001b[1;33m\u001b[0m\u001b[0m\n",
        "\u001b[1;31mNameException\u001b[0m: The name \"method_with_a_very_long_name_that_is_not_allowed\" is too long. Only 30 characters are allowed it is 48 characters in length"
       ]
      }
     ],
     "prompt_number": 53
    },
    {
     "cell_type": "code",
     "collapsed": false,
     "input": [
      "'''My docstring is there and is long enough'''\n",
      "\n",
      "import re\n",
      "\n",
      "\n",
      "class NoDocString(Exception):\n",
      "    '''Raised if there is no docstring'''\n",
      "\n",
      "\n",
      "def is_special_method(name, regex=re.compile(r'__[a-zA-Z\\d]+__$')):\n",
      "    '''Find out if method is special, i.e. __xxx__'''\n",
      "    if regex.match(name):\n",
      "        return True\n",
      "    return False\n",
      "\n",
      "\n",
      "class DocChecked(type):\n",
      "    '''Check for docstring'''\n",
      "    \n",
      "    def __init__(cls, name, bases, cdict):\n",
      "        for name, value in cdict.items():\n",
      "            print 'Is %s special?' % name, is_special_method(name)\n",
      "            if hasattr(value, '__call__') and\\\n",
      "               not is_special_method(name):\n",
      "                doc_string = value.__doc__\n",
      "                if doc_string:\n",
      "                    doc_len = len(doc_string.strip())\n",
      "                    if doc_len < 5:\n",
      "                        print name\n",
      "                        msg = ' '.join(['Docstring is too short,',\n",
      "                                        'it is %d characters in length.' % doc_len,\n",
      "                                        'The minimum length is %d characters.' % 5])\n",
      "                        raise NoDocString(msg)\n",
      "                else:\n",
      "                    raise NoDocString('No docstring found for %s' % name)\n",
      "        super(DocChecked, cls).__init__(name, bases, cdict)\n",
      "\n",
      "\n",
      "if __name__ == '__main__':\n",
      "    \n",
      "    class Test:\n",
      "        '''Test class'''\n",
      "        __metaclass__ = DocChecked\n",
      "        \n",
      "        def meth1(self):\n",
      "            '''Nice docstring'''\n",
      "            pass\n",
      "        \n",
      "        def meth2(self):\n",
      "            '''void_xx'''\n",
      "            pass\n",
      "        \n",
      "        # next 2 will fail\n",
      "        #def meth3(self):\n",
      "        #    '''xxx'''\n",
      "        #    pass\n",
      "        \n",
      "        #def meth4(self):\n",
      "        #    pass\n",
      "        \n",
      "        # will not fail, it is special\n",
      "        def __add__(self):\n",
      "            pass\n",
      "        \n",
      "        \n",
      "        "
     ],
     "language": "python",
     "metadata": {},
     "outputs": [
      {
       "output_type": "stream",
       "stream": "stdout",
       "text": [
        "Is __module__ special? True\n",
        "Is __metaclass__ special? True\n",
        "Is meth2 special? False\n",
        "Is meth1 special? False\n",
        "Is __add__ special? True\n",
        "Is __doc__ special? True\n",
        "Debug metaclass in action. 5\n",
        "['__main__.SomeClass1', '__main__.SomeClass2', '__main__.meth2', '__main__.__doc__', '__main__.__doc__']\n"
       ]
      }
     ],
     "prompt_number": 74
    },
    {
     "cell_type": "code",
     "collapsed": false,
     "input": [
      "\n"
     ],
     "language": "python",
     "metadata": {},
     "outputs": []
    }
   ],
   "metadata": {}
  }
 ]
}
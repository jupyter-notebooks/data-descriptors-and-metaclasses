{
 "metadata": {
  "name": "Decorators and Metaclasses - Learning Python 4th Ed 2009"
 },
 "nbformat": 3,
 "nbformat_minor": 0,
 "worksheets": [
  {
   "cells": [
    {
     "cell_type": "code",
     "collapsed": false,
     "input": [
      "class tracer:\n",
      "    def __init__(self, func):\n",
      "        self.calls = 0\n",
      "        self.func = func\n",
      "    def __call__(self, *args):\n",
      "        self.calls += 1\n",
      "        print('call %s to %s' % (self.calls, self.func.__name__))\n",
      "        self.func(*args)\n",
      "\n",
      "@tracer # Same as spam = tracer(spam)\n",
      "def spam(a, b, c): # Wrap spam in a decorator object\n",
      "    print(a, b, c)\n",
      "\n",
      "\n",
      "spam(1, 2, 3) # Really calls the tracer wrapper object\n",
      "spam('a', 'b', 'c') # Invokes __call__ in class\n",
      "spam(4, 5, 6) # __call__ adds logic and runs original object"
     ],
     "language": "python",
     "metadata": {},
     "outputs": [
      {
       "output_type": "stream",
       "stream": "stdout",
       "text": [
        "call 1 to spam\n",
        "(1, 2, 3)\n",
        "call 2 to spam\n",
        "('a', 'b', 'c')\n",
        "call 3 to spam\n",
        "(4, 5, 6)\n"
       ]
      }
     ],
     "prompt_number": 2
    },
    {
     "cell_type": "markdown",
     "metadata": {},
     "source": [
      "##Specialized Examples of Decorators"
     ]
    },
    {
     "cell_type": "markdown",
     "metadata": {},
     "source": [
      "[Return an error on non-post requests](http://toumorokoshi.github.io/dry-principles-through-python-decorators.html)"
     ]
    },
    {
     "cell_type": "markdown",
     "metadata": {},
     "source": [
      "    def post_only(f):\n",
      "        \"\"\" Ensures a method is post only \"\"\"\n",
      "        def wrapped_f(request):\n",
      "            if request.method != \"POST\":\n",
      "                response = HttpResponse(json.dumps(\n",
      "                    {\"error\": \"this method only accepts posts!\"}))\n",
      "                response.status_code = 500\n",
      "                return response\n",
      "            return f(request)\n",
      "        return wrapped_f"
     ]
    },
    {
     "cell_type": "markdown",
     "metadata": {},
     "source": [
      "    @post_only\n",
      "    def register(request):\n",
      "        result = None\n",
      "        try:\n",
      "            user = User.objects.create_user(request.POST['username'],\n",
      "                                            request.POST['email'],\n",
      "                                            request.POST['password'])\n",
      "            # optional fields\n",
      "            for field in ['first_name', 'last_name']:\n",
      "                if field in request.POST:\n",
      "                    setattr(user, field, request.POST[field])\n",
      "            user.save()\n",
      "            result = {\"success\": True}\n",
      "        except KeyError as e:\n",
      "            result = {\"error\": str(e) }\n",
      "        response = HttpResponse(json.dumps(result))\n",
      "        if \"error\" in result:\n",
      "            response.status_code = 500\n",
      "        return response"
     ]
    },
    {
     "cell_type": "markdown",
     "metadata": {},
     "source": [
      "[Send the response as json](http://toumorokoshi.github.io/dry-principles-through-python-decorators.html)"
     ]
    },
    {
     "cell_type": "markdown",
     "metadata": {},
     "source": [
      "    def json_response(f):\n",
      "        \"\"\" Return the response as json, and return a 500 error code if an error exists \"\"\"\n",
      "        def wrapped(*args, **kwargs):\n",
      "            result = f(*args, **kwargs)\n",
      "            response = HttpResponse(json.dumps(result))\n",
      "            if type(result) == dict and 'error' in result:\n",
      "                response.status_code = 500\n",
      "            return response\n",
      "            "
     ]
    },
    {
     "cell_type": "markdown",
     "metadata": {},
     "source": [
      "Now we can remove the json code from our methods, and add a decorator instead:"
     ]
    },
    {
     "cell_type": "markdown",
     "metadata": {},
     "source": [
      "    @post_only\n",
      "    @json_response\n",
      "    def register(request):\n",
      "        try:\n",
      "            user = User.objects.create_user(request.POST['username'],\n",
      "                                            request.POST['email'],\n",
      "                                            request.POST['password'])\n",
      "            # optional fields\n",
      "            for field in ['first_name', 'last_name']:\n",
      "                if field in request.POST:\n",
      "                    setattr(user, field, request.POST[field])\n",
      "            user.save()\n",
      "            return {\"success\": True}\n",
      "        except KeyError as e:\n",
      "            return {\"error\": str(e) }"
     ]
    },
    {
     "cell_type": "markdown",
     "metadata": {},
     "source": [
      "Now, if I need to write a new method, I can just use these decorators to re-do the redundant work. If I need to make a sign-in method, I only have to write the real relevant code a second time:"
     ]
    },
    {
     "cell_type": "markdown",
     "metadata": {},
     "source": [
      "    @post_only\n",
      "    @json_response\n",
      "    def login(request):\n",
      "        if request.user is not None:\n",
      "            return {\"error\": \"User is already authenticated!\"}\n",
      "        user = auth.authenticate(request.POST['username'], request.POST['password'])\n",
      "        if user is not None:\n",
      "            if not user.is_active:\n",
      "                return {\"error\": \"User is inactive\"}\n",
      "            auth.login(request, user)\n",
      "            return {\"success\": True, \"id\": user.pk}\n",
      "        else:\n",
      "            return {\"error\": \"User does not exist with those credentials\"}"
     ]
    },
    {
     "cell_type": "markdown",
     "metadata": {},
     "source": [
      "[BONUS: parameterizing your request method](http://toumorokoshi.github.io/dry-principles-through-python-decorators.html)"
     ]
    },
    {
     "cell_type": "markdown",
     "metadata": {},
     "source": [
      "    def parameterize_request(types=(\"POST\",)):\n",
      "        \"\"\"\n",
      "        Parameterize the request instead of parsing the request directly.\n",
      "        Only the types specified will be added to the query parameters.\n",
      "    \n",
      "        e.g. convert a=test&b=cv in request.POST to\n",
      "        f(a=test, b=cv)\n",
      "        \"\"\"\n",
      "        def wrapper(f):\n",
      "            def wrapped(request):\n",
      "                kw = {}\n",
      "                if \"GET\" in types:\n",
      "                    for k, v in request.GET.items():\n",
      "                        kw[k] = v\n",
      "                if \"POST\" in types:\n",
      "                    for k, v in request.POST.items():\n",
      "                        kw[k] = v\n",
      "                return f(request, **kw)\n",
      "            return wrapped\n",
      "        return wrapper"
     ]
    },
    {
     "cell_type": "markdown",
     "metadata": {},
     "source": [
      "Note that this is an example of a parameterized decorator. In this case, the result of the function is the actual decorator.\n",
      "\n",
      "I can write my methods with parameterized arguments! I can even choose whether to allow GET and POST, or just one type of query parameter."
     ]
    },
    {
     "cell_type": "markdown",
     "metadata": {},
     "source": [
      "    @post_only\n",
      "    @json_response\n",
      "    @parameterize_request([\"POST\"])\n",
      "    def register(request, username, email, password,\n",
      "                 first_name=None, last_name=None):\n",
      "        user = User.objects.create_user(username, email, password)\n",
      "        user.first_name=first_name\n",
      "        user.last_name=last_name\n",
      "        user.save()\n",
      "        return {\"success\": True}"
     ]
    },
    {
     "cell_type": "markdown",
     "metadata": {},
     "source": [
      "[BONUS #2: Using functools.wraps to preserve docstrings and function name](http://toumorokoshi.github.io/dry-principles-through-python-decorators.html)\n"
     ]
    },
    {
     "cell_type": "markdown",
     "metadata": {},
     "source": [
      "    def increment(f):\n",
      "        \"\"\" Increment a function result \"\"\"\n",
      "        wrapped_f(a, b):\n",
      "            return f(a, b) + 1\n",
      "        return wrapped_f\n",
      "    \n",
      "    @increment\n",
      "    def plus(a, b)\n",
      "        \"\"\" Add two things together \"\"\"\n",
      "        return a + b\n",
      "    \n",
      "    plus.__name__  # this is now 'wrapped_f' instead of 'plus'\n",
      "    plus.__doc__   # this now returns 'Increment a function result' instead of 'Add two things together'\n",
      "    \n",
      "    \n",
      "    \n",
      "    from functools import wraps\n",
      "\n",
      "    def increment(f):\n",
      "        \"\"\" Increment a function result \"\"\"\n",
      "        @wraps(f)\n",
      "        wrapped_f(a, b):\n",
      "            return f(a, b) + 1\n",
      "        return wrapped_f\n",
      "    \n",
      "    @increment\n",
      "    def plus(a, b)\n",
      "        \"\"\" Add two things together \"\"\"\n",
      "        return a + b\n",
      "    \n",
      "    plus.__name__  # this returns 'plus'\n",
      "    plus.__doc__   # this returns 'Add two things together'"
     ]
    },
    {
     "cell_type": "code",
     "collapsed": false,
     "input": [],
     "language": "python",
     "metadata": {},
     "outputs": []
    },
    {
     "cell_type": "code",
     "collapsed": false,
     "input": [],
     "language": "python",
     "metadata": {},
     "outputs": []
    },
    {
     "cell_type": "code",
     "collapsed": false,
     "input": [
      "#This makes everything pretty\n",
      "\n",
      "from IPython.core.display import HTML\n",
      "from urllib import urlopen\n",
      "def css_styling():\n",
      "    styles = open('styles/custom.css', 'r').read()\n",
      "    return HTML(styles)\n",
      "css_styling()"
     ],
     "language": "python",
     "metadata": {},
     "outputs": [
      {
       "html": [
        "<style>\n",
        "    @font-face {\n",
        "        font-family: \"Computer Modern\";\n",
        "        src: url('http://9dbb143991406a7c655e-aa5fcb0a5a4ec34cff238a2d56ca4144.r56.cf5.rackcdn.com/cmunss.otf');\n",
        "    }\n",
        "    @font-face {\n",
        "        font-family: \"Computer Modern\";\n",
        "        font-weight: bold;\n",
        "        src: url('http://9dbb143991406a7c655e-aa5fcb0a5a4ec34cff238a2d56ca4144.r56.cf5.rackcdn.com/cmunsx.otf');\n",
        "    }\n",
        "    @font-face {\n",
        "        font-family: \"Computer Modern\";\n",
        "        font-style: oblique;\n",
        "        src: url('http://9dbb143991406a7c655e-aa5fcb0a5a4ec34cff238a2d56ca4144.r56.cf5.rackcdn.com/cmunsi.otf');\n",
        "    }\n",
        "    @font-face {\n",
        "        font-family: \"Computer Modern\";\n",
        "        font-weight: bold;\n",
        "        font-style: oblique;\n",
        "        src: url('http://9dbb143991406a7c655e-aa5fcb0a5a4ec34cff238a2d56ca4144.r56.cf5.rackcdn.com/cmunso.otf');\n",
        "    }\n",
        "    div.cell{\n",
        "        width:800px;\n",
        "        margin-left:16% !important;\n",
        "        margin-right:auto;\n",
        "    }\n",
        "    h1 {\n",
        "        font-family: Helvetica, serif;\n",
        "    }\n",
        "    h4{\n",
        "        margin-top:12px;\n",
        "        margin-bottom: 3px;\n",
        "       }\n",
        "    div.text_cell_render{\n",
        "        font-family: Computer Modern, \"Helvetica Neue\", Arial, Helvetica, Geneva, sans-serif;\n",
        "        line-height: 145%;\n",
        "        font-size: 130%;\n",
        "        width:800px;\n",
        "        margin-left:auto;\n",
        "        margin-right:auto;\n",
        "    }\n",
        "    .CodeMirror{\n",
        "            font-family: \"Source Code Pro\", source-code-pro,Consolas, monospace;\n",
        "    }\n",
        "    .prompt{\n",
        "        display: None;\n",
        "    }\n",
        "    .text_cell_render h5 {\n",
        "        font-weight: 300;\n",
        "        font-size: 22pt;\n",
        "        color: #4057A1;\n",
        "        font-style: italic;\n",
        "        margin-bottom: .5em;\n",
        "        margin-top: 0.5em;\n",
        "        display: block;\n",
        "    }\n",
        "    \n",
        "    .warning{\n",
        "        color: rgb( 240, 20, 20 )\n",
        "        }  \n",
        "</style>\n",
        "<script>\n",
        "    MathJax.Hub.Config({\n",
        "                        TeX: {\n",
        "                           extensions: [\"AMSmath.js\"]\n",
        "                           },\n",
        "                tex2jax: {\n",
        "                    inlineMath: [ ['$','$'], [\"\\\\(\",\"\\\\)\"] ],\n",
        "                    displayMath: [ ['$$','$$'], [\"\\\\[\",\"\\\\]\"] ]\n",
        "                },\n",
        "                displayAlign: 'center', // Change this to 'center' to center equations.\n",
        "                \"HTML-CSS\": {\n",
        "                    styles: {'.MathJax_Display': {\"margin\": 4}}\n",
        "                }\n",
        "        });\n",
        "</script>\n"
       ],
       "metadata": {},
       "output_type": "pyout",
       "prompt_number": 11,
       "text": [
        "<IPython.core.display.HTML at 0x4c6c2b0>"
       ]
      }
     ],
     "prompt_number": 11
    },
    {
     "cell_type": "code",
     "collapsed": false,
     "input": [],
     "language": "python",
     "metadata": {},
     "outputs": []
    }
   ],
   "metadata": {}
  }
 ]
}
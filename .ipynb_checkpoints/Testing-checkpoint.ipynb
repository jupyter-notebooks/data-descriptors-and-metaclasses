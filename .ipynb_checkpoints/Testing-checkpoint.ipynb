{
 "metadata": {
  "name": "Testing"
 },
 "nbformat": 3,
 "nbformat_minor": 0,
 "worksheets": [
  {
   "cells": [
    {
     "cell_type": "code",
     "collapsed": false,
     "input": [
      "cd python"
     ],
     "language": "python",
     "metadata": {},
     "outputs": [
      {
       "output_type": "stream",
       "stream": "stdout",
       "text": [
        "L:\\dev\\testing\\python\n"
       ]
      }
     ],
     "prompt_number": 6
    },
    {
     "cell_type": "code",
     "collapsed": false,
     "input": [
      "ls"
     ],
     "language": "python",
     "metadata": {},
     "outputs": [
      {
       "output_type": "stream",
       "stream": "stdout",
       "text": [
        " Volume in drive L has no label.\n",
        " Volume Serial Number is F81A-9A6C\n",
        "\n",
        " Directory of L:\\dev\\testing\\python\n",
        "\n",
        "04/16/2014  19:49    <DIR>          .\n",
        "04/16/2014  19:49    <DIR>          ..\n",
        "02/08/2014  20:46               546 portfolio1.py\n",
        "03/02/2014  15:24               912 portfolio2.py\n",
        "04/09/2014  18:14             1,739 portfolio3.py\n",
        "04/09/2014  18:13               249 porttest1.py\n",
        "04/09/2014  18:14               302 porttest2.py\n",
        "04/09/2014  22:52               379 porttest3.py\n",
        "04/12/2014  14:50               386 porttest3_broken.py\n",
        "04/09/2014  18:14               234 test_port1.py\n",
        "04/09/2014  18:14               478 test_port2.py\n",
        "04/09/2014  18:14               527 test_port2_broken.py\n",
        "04/09/2014  18:14               505 test_port3.py\n",
        "04/09/2014  18:14               503 test_port3_broken.py\n",
        "04/09/2014  18:14               507 test_port3_broken2.py\n",
        "04/09/2014  18:14               728 test_port3b.py\n",
        "04/09/2014  18:14               628 test_port4.py\n",
        "04/09/2014  18:14               581 test_port4_broken.py\n",
        "04/09/2014  18:14             1,618 test_port5.py\n",
        "04/09/2014  18:14             1,405 test_port6.py\n",
        "04/09/2014  18:14             1,662 test_port7.py\n",
        "04/09/2014  18:14             1,969 test_port8.py\n",
        "04/09/2014  18:14             1,958 test_port9.py\n",
        "              21 File(s)         17,816 bytes\n",
        "               2 Dir(s)   1,012,412,416 bytes free\n"
       ]
      }
     ],
     "prompt_number": 7
    },
    {
     "cell_type": "code",
     "collapsed": false,
     "input": [
      "%load portfolio1.py"
     ],
     "language": "python",
     "metadata": {},
     "outputs": [],
     "prompt_number": 8
    },
    {
     "cell_type": "code",
     "collapsed": false,
     "input": [
      "# portfolio1.py\n",
      "\n",
      "class Portfolio(object):\n",
      "    \"\"\"A simple stock portfolio\"\"\"\n",
      "    def __init__(self):\n",
      "        # stocks is a list of lists:\n",
      "        #   [[name, shares, price], ...]\n",
      "        self.stocks = []\n",
      "\n",
      "    def buy(self, name, shares, price):\n",
      "        \"\"\"Buy `name`: `shares` shares at `price`.\"\"\"\n",
      "        self.stocks.append([name, shares, price])\n",
      "\n",
      "    def cost(self):\n",
      "        \"\"\"What was the total cost of this portfolio?\"\"\"\n",
      "        amt = 0.0\n",
      "        for name, shares, price in self.stocks:\n",
      "            amt += shares * price\n",
      "        return amt\n"
     ],
     "language": "python",
     "metadata": {},
     "outputs": [],
     "prompt_number": 10
    },
    {
     "cell_type": "code",
     "collapsed": false,
     "input": [
      "p = Portfolio()"
     ],
     "language": "python",
     "metadata": {},
     "outputs": [],
     "prompt_number": 11
    },
    {
     "cell_type": "code",
     "collapsed": false,
     "input": [
      "p.cost()"
     ],
     "language": "python",
     "metadata": {},
     "outputs": [
      {
       "metadata": {},
       "output_type": "pyout",
       "prompt_number": 12,
       "text": [
        "0.0"
       ]
      }
     ],
     "prompt_number": 12
    },
    {
     "cell_type": "code",
     "collapsed": false,
     "input": [
      "p.buy('IBM', 100, 176.48)"
     ],
     "language": "python",
     "metadata": {},
     "outputs": [],
     "prompt_number": 13
    },
    {
     "cell_type": "code",
     "collapsed": false,
     "input": [
      "p.cost()"
     ],
     "language": "python",
     "metadata": {},
     "outputs": [
      {
       "metadata": {},
       "output_type": "pyout",
       "prompt_number": 14,
       "text": [
        "17648.0"
       ]
      }
     ],
     "prompt_number": 14
    },
    {
     "cell_type": "code",
     "collapsed": false,
     "input": [
      "p.buy('HPQ', 100, 36.15)\n",
      "p.cost()"
     ],
     "language": "python",
     "metadata": {},
     "outputs": [
      {
       "metadata": {},
       "output_type": "pyout",
       "prompt_number": 15,
       "text": [
        "21263.0"
       ]
      }
     ],
     "prompt_number": 15
    },
    {
     "cell_type": "code",
     "collapsed": false,
     "input": [
      "%load porttest1.py"
     ],
     "language": "python",
     "metadata": {},
     "outputs": [],
     "prompt_number": 16
    },
    {
     "cell_type": "code",
     "collapsed": false,
     "input": [
      "# porttest1.py\n",
      "from portfolio1 import Portfolio\n",
      "\n",
      "p = Portfolio()\n",
      "print \"Empty portfolio cost: %s\" % p.cost()\n",
      "p.buy(\"IBM\", 100, 176.48)\n",
      "print \"With 100 IBM @ 176.48: %s\" % p.cost()\n",
      "p.buy(\"HPQ\", 100, 36.15)\n",
      "print \"With 100 HPQ @ 36.15: %s\" % p.cost()\n"
     ],
     "language": "python",
     "metadata": {},
     "outputs": [
      {
       "output_type": "stream",
       "stream": "stdout",
       "text": [
        "Empty portfolio cost: 0.0\n",
        "With 100 IBM @ 176.48: 17648.0\n",
        "With 100 HPQ @ 36.15: 21263.0\n"
       ]
      }
     ],
     "prompt_number": 17
    },
    {
     "cell_type": "code",
     "collapsed": false,
     "input": [
      "%load porttest2.py"
     ],
     "language": "python",
     "metadata": {},
     "outputs": [],
     "prompt_number": 18
    },
    {
     "cell_type": "code",
     "collapsed": false,
     "input": [
      "# porttest2.py\n",
      "from portfolio1 import Portfolio\n",
      "\n",
      "p = Portfolio()\n",
      "print \"Empty portfolio cost: %s, should be 0.0\" % p.cost()\n",
      "p.buy(\"IBM\", 100, 176.48)\n",
      "print \"With 100 IBM @ 176.48: %s, should be 17648.0\" % p.cost()\n",
      "p.buy(\"HPQ\", 100, 36.15)\n",
      "print \"With 100 HPQ @ 36.15: %s, should be 21263.0\" % p.cost()\n"
     ],
     "language": "python",
     "metadata": {},
     "outputs": [
      {
       "output_type": "stream",
       "stream": "stdout",
       "text": [
        "Empty portfolio cost: 0.0, should be 0.0\n",
        "With 100 IBM @ 176.48: 17648.0, should be 17648.0\n",
        "With 100 HPQ @ 36.15: 21263.0, should be 21263.0\n"
       ]
      }
     ],
     "prompt_number": 19
    },
    {
     "cell_type": "raw",
     "metadata": {},
     "source": [
      "Good: repeatable with low effort\n",
      "Better: explicit expected results\n",
      "Bad: have to check the results yourself"
     ]
    },
    {
     "cell_type": "code",
     "collapsed": false,
     "input": [
      "%load porttest3.py"
     ],
     "language": "python",
     "metadata": {},
     "outputs": [],
     "prompt_number": 20
    },
    {
     "cell_type": "code",
     "collapsed": false,
     "input": [
      "# porttest3.py\n",
      "from portfolio1 import Portfolio\n",
      "\n",
      "p = Portfolio()\n",
      "print \"Empty portfolio cost: %s, should be 0.0\" % p.cost()\n",
      "assert p.cost() == 0.0\n",
      "p.buy(\"IBM\", 100, 176.48)\n",
      "print \"With 100 IBM @ 176.48: %s, should be 17648.0\" % p.cost()\n",
      "assert p.cost() == 17648.0\n",
      "p.buy(\"HPQ\", 100, 36.15)\n",
      "print \"With 100 HPQ @ 36.15: %s, should be 21263.0\" % p.cost()\n",
      "assert p.cost() == 21263.0\n"
     ],
     "language": "python",
     "metadata": {},
     "outputs": [
      {
       "output_type": "stream",
       "stream": "stdout",
       "text": [
        "Empty portfolio cost: 0.0, should be 0.0\n",
        "With 100 IBM @ 176.48: 17648.0, should be 17648.0\n",
        "With 100 HPQ @ 36.15: 21263.0, should be 21263.0\n"
       ]
      }
     ],
     "prompt_number": 21
    },
    {
     "cell_type": "raw",
     "metadata": {},
     "source": [
      "Good: repeatable with low effort\n",
      "Good: explicit expected results\n",
      "Good: results checked automatically"
     ]
    },
    {
     "cell_type": "code",
     "collapsed": false,
     "input": [
      "%load porttest3_broken.py"
     ],
     "language": "python",
     "metadata": {},
     "outputs": [],
     "prompt_number": 23
    },
    {
     "cell_type": "code",
     "collapsed": false,
     "input": [
      "# porttest3_broken.py\n",
      "from portfolio1 import Portfolio\n",
      "\n",
      "p = Portfolio()\n",
      "print \"Empty portfolio cost: %s, should be 0.0\" % p.cost()\n",
      "assert p.cost() == 0.0\n",
      "p.buy(\"IBM\", 100, 176.48)\n",
      "print \"With 100 IBM @ 176.48: %s, should be 17600.0\" % p.cost()\n",
      "assert p.cost() == 17600.0\n",
      "p.buy(\"HPQ\", 100, 36.15)\n",
      "print \"With 100 HPQ @ 36.15: %s, should be 21263.0\" % p.cost()\n",
      "assert p.cost() == 21263.0\n"
     ],
     "language": "python",
     "metadata": {},
     "outputs": [
      {
       "ename": "AssertionError",
       "evalue": "",
       "output_type": "pyerr",
       "traceback": [
        "\u001b[1;31m---------------------------------------------------------------------------\u001b[0m\n\u001b[1;31mAssertionError\u001b[0m                            Traceback (most recent call last)",
        "\u001b[1;32m<ipython-input-24-eee07c092fcd>\u001b[0m in \u001b[0;36m<module>\u001b[1;34m()\u001b[0m\n\u001b[0;32m      7\u001b[0m \u001b[0mp\u001b[0m\u001b[1;33m.\u001b[0m\u001b[0mbuy\u001b[0m\u001b[1;33m(\u001b[0m\u001b[1;34m\"IBM\"\u001b[0m\u001b[1;33m,\u001b[0m \u001b[1;36m100\u001b[0m\u001b[1;33m,\u001b[0m \u001b[1;36m176.48\u001b[0m\u001b[1;33m)\u001b[0m\u001b[1;33m\u001b[0m\u001b[0m\n\u001b[0;32m      8\u001b[0m \u001b[1;32mprint\u001b[0m \u001b[1;34m\"With 100 IBM @ 176.48: %s, should be 17600.0\"\u001b[0m \u001b[1;33m%\u001b[0m \u001b[0mp\u001b[0m\u001b[1;33m.\u001b[0m\u001b[0mcost\u001b[0m\u001b[1;33m(\u001b[0m\u001b[1;33m)\u001b[0m\u001b[1;33m\u001b[0m\u001b[0m\n\u001b[1;32m----> 9\u001b[1;33m \u001b[1;32massert\u001b[0m \u001b[0mp\u001b[0m\u001b[1;33m.\u001b[0m\u001b[0mcost\u001b[0m\u001b[1;33m(\u001b[0m\u001b[1;33m)\u001b[0m \u001b[1;33m==\u001b[0m \u001b[1;36m17600.0\u001b[0m\u001b[1;33m\u001b[0m\u001b[0m\n\u001b[0m\u001b[0;32m     10\u001b[0m \u001b[0mp\u001b[0m\u001b[1;33m.\u001b[0m\u001b[0mbuy\u001b[0m\u001b[1;33m(\u001b[0m\u001b[1;34m\"HPQ\"\u001b[0m\u001b[1;33m,\u001b[0m \u001b[1;36m100\u001b[0m\u001b[1;33m,\u001b[0m \u001b[1;36m36.15\u001b[0m\u001b[1;33m)\u001b[0m\u001b[1;33m\u001b[0m\u001b[0m\n\u001b[0;32m     11\u001b[0m \u001b[1;32mprint\u001b[0m \u001b[1;34m\"With 100 HPQ @ 36.15: %s, should be 21263.0\"\u001b[0m \u001b[1;33m%\u001b[0m \u001b[0mp\u001b[0m\u001b[1;33m.\u001b[0m\u001b[0mcost\u001b[0m\u001b[1;33m(\u001b[0m\u001b[1;33m)\u001b[0m\u001b[1;33m\u001b[0m\u001b[0m\n",
        "\u001b[1;31mAssertionError\u001b[0m: "
       ]
      },
      {
       "output_type": "stream",
       "stream": "stdout",
       "text": [
        "Empty portfolio cost: 0.0, should be 0.0\n",
        "With 100 IBM @ 176.48: 17648.0, should be 17600.0\n"
       ]
      }
     ],
     "prompt_number": 24
    },
    {
     "cell_type": "raw",
     "metadata": {},
     "source": [
      "Good: repeatable with low effort\n",
      "Good: explicit expected results, checked automatically\n",
      "OK: visible failure, but cluttered output\n",
      "Bad: failure stops tests"
     ]
    },
    {
     "cell_type": "heading",
     "level": 3,
     "metadata": {},
     "source": [
      "Good Tests"
     ]
    },
    {
     "cell_type": "raw",
     "metadata": {},
     "source": [
      "Automated\n",
      "Fast\n",
      "Reliable\n",
      "Informative\n",
      "Focused"
     ]
    },
    {
     "cell_type": "heading",
     "level": 3,
     "metadata": {},
     "source": [
      "unittest"
     ]
    },
    {
     "cell_type": "raw",
     "metadata": {},
     "source": [
      "unittest\n",
      "python standard library\n",
      "infrastructure for well-structured tests\n",
      "jUnit, cppUnit, xUnit"
     ]
    },
    {
     "cell_type": "code",
     "collapsed": false,
     "input": [
      "%load test_port1.py"
     ],
     "language": "python",
     "metadata": {},
     "outputs": [],
     "prompt_number": 25
    },
    {
     "cell_type": "code",
     "collapsed": false,
     "input": [
      "# test_port1.py\n",
      "\n",
      "import unittest\n",
      "from portfolio1 import Portfolio\n",
      "\n",
      "class PortfolioTest(unittest.TestCase):\n",
      "    def test_buy_one_stock(self):\n",
      "        p = Portfolio()\n",
      "        p.buy(\"IBM\", 100, 176.48)\n",
      "        assert p.cost() == 17648.0\n"
     ],
     "language": "python",
     "metadata": {},
     "outputs": [],
     "prompt_number": 27
    },
    {
     "cell_type": "raw",
     "metadata": {},
     "source": [
      "L:\\dev\\testing\\python>python -m unittest test_port1\n",
      ".\n",
      "----------------------------------------------------------------------\n",
      "Ran 1 test in 0.000s\n",
      "\n",
      "OK"
     ]
    },
    {
     "cell_type": "code",
     "collapsed": false,
     "input": [
      "# Under the covers\n",
      "\n",
      "# unittest runs the tests as if I had written:\n",
      "testcase: PortfolioTest()\n",
      "try:\n",
      "    testcase.test_buy_one_stock()\n",
      "except AssertionError:\n",
      "    # [record failure]\n",
      "else:\n",
      "    # [record success]"
     ],
     "language": "python",
     "metadata": {},
     "outputs": []
    },
    {
     "cell_type": "heading",
     "level": 3,
     "metadata": {},
     "source": [
      "Add more tests"
     ]
    },
    {
     "cell_type": "code",
     "collapsed": false,
     "input": [
      "%load test_port2.py"
     ],
     "language": "python",
     "metadata": {},
     "outputs": [],
     "prompt_number": 29
    },
    {
     "cell_type": "code",
     "collapsed": false,
     "input": [
      "# test_port2.py\n",
      "\n",
      "import unittest\n",
      "from portfolio1 import Portfolio\n",
      "\n",
      "class PortfolioTest(unittest.TestCase):\n",
      "    def test_empty(self):\n",
      "        p = Portfolio()\n",
      "        assert p.cost() == 0.0\n",
      "\n",
      "    def test_buy_one_stock(self):\n",
      "        p = Portfolio()\n",
      "        p.buy(\"IBM\", 100, 176.48)\n",
      "        assert p.cost() == 17648.0\n",
      "\n",
      "    def test_buy_two_stocks(self):\n",
      "        p = Portfolio()\n",
      "        p.buy(\"IBM\", 100, 176.48)\n",
      "        p.buy(\"HPQ\", 100, 36.15)\n",
      "        assert p.cost() == 21263.0\n"
     ],
     "language": "python",
     "metadata": {},
     "outputs": []
    },
    {
     "cell_type": "raw",
     "metadata": {},
     "source": [
      "L:\\dev\\testing\\python>python -m unittest test_port1\n",
      ".\n",
      "----------------------------------------------------------------------\n",
      "Ran 1 test in 0.000s\n",
      "\n",
      "OK\n",
      "\n",
      "L:\\dev\\testing\\python>python -m unittest test_port2\n",
      "...\n",
      "----------------------------------------------------------------------\n",
      "Ran 3 tests in 0.001s\n",
      "\n",
      "OK"
     ]
    },
    {
     "cell_type": "code",
     "collapsed": false,
     "input": [
      "# Under the covers\n",
      "# instantiates a new object for each method tested\n",
      "\n",
      "# unittest runs the tests as if I had written:\n",
      "testcase: PortfolioTest()\n",
      "try:\n",
      "    testcase.test_empty()\n",
      "except AssertionError:\n",
      "    # [record failure]\n",
      "else:\n",
      "    # [record success]\n",
      "\n",
      "testcase: PortfolioTest()\n",
      "try:\n",
      "    testcase.test_buy_one_stock()\n",
      "except AssertionError:\n",
      "    # [record failure]\n",
      "else:\n",
      "    # [record success]\n",
      "\n",
      "testcase: PortfolioTest()\n",
      "try:\n",
      "    testcase.test_buy_two_stocks()\n",
      "except AssertionError:\n",
      "    # [record failure]\n",
      "else:\n",
      "    # [record success]"
     ],
     "language": "python",
     "metadata": {},
     "outputs": []
    },
    {
     "cell_type": "heading",
     "level": 3,
     "metadata": {},
     "source": [
      "Test Isolation"
     ]
    },
    {
     "cell_type": "raw",
     "metadata": {},
     "source": [
      "every test gets a new test object\n",
      "tests can't affect each other\n",
      "failure doesn't stop next tests"
     ]
    },
    {
     "cell_type": "heading",
     "level": 3,
     "metadata": {},
     "source": [
      "What failure looks like"
     ]
    },
    {
     "cell_type": "code",
     "collapsed": false,
     "input": [
      "%load test_port2_broken.py"
     ],
     "language": "python",
     "metadata": {},
     "outputs": [],
     "prompt_number": 31
    },
    {
     "cell_type": "code",
     "collapsed": false,
     "input": [
      "# test_port2_broken.py\n",
      "\n",
      "import unittest\n",
      "from portfolio1 import Portfolio\n",
      "\n",
      "class PortfolioTest(unittest.TestCase):\n",
      "    def test_empty(self):\n",
      "        p = Portfolio()\n",
      "        assert p.cost() == 0.0\n",
      "\n",
      "    def test_buy_one_stock(self):\n",
      "        p = Portfolio()\n",
      "        p.buy(\"IBM\", 100, 176)      # this is wrong, to make the test fail!\n",
      "        assert p.cost() == 17648.0\n",
      "\n",
      "    def test_buy_two_stocks(self):\n",
      "        p = Portfolio()\n",
      "        p.buy(\"IBM\", 100, 176.48)\n",
      "        p.buy(\"HPQ\", 100, 36.15)\n",
      "        assert p.cost() == 21263.0\n"
     ],
     "language": "python",
     "metadata": {},
     "outputs": []
    },
    {
     "cell_type": "raw",
     "metadata": {},
     "source": [
      "L:\\dev\\testing\\python>python -m unittest test_port2_broken\n",
      "F..\n",
      "======================================================================\n",
      "FAIL: test_buy_one_stock (test_port2_broken.PortfolioTest)\n",
      "----------------------------------------------------------------------\n",
      "Traceback (most recent call last):\n",
      "  File \"test_port2_broken.py\", line 14, in test_buy_one_stock\n",
      "    assert p.cost() == 17648.0\n",
      "AssertionError\n",
      "\n",
      "----------------------------------------------------------------------\n",
      "Ran 3 tests in 0.000s\n",
      "\n",
      "FAILED (failures=1)"
     ]
    },
    {
     "cell_type": "raw",
     "metadata": {},
     "source": [
      "Better: Failed test didn't stop others\n",
      "Bad: what value was returned?"
     ]
    },
    {
     "cell_type": "heading",
     "level": 3,
     "metadata": {},
     "source": [
      "unittest assert helpers"
     ]
    },
    {
     "cell_type": "code",
     "collapsed": false,
     "input": [
      "%load test_port3_broken.py"
     ],
     "language": "python",
     "metadata": {},
     "outputs": [],
     "prompt_number": 32
    },
    {
     "cell_type": "code",
     "collapsed": false,
     "input": [
      "# test_port3.py\n",
      "# assertEqual method on the TestCase object\n",
      "# better for testing equality than just assert,\n",
      "# more descriptive of the symptoms of the error\n",
      "\n",
      "import unittest\n",
      "from portfolio1 import Portfolio\n",
      "\n",
      "class PortfolioTest(unittest.TestCase):\n",
      "    def test_empty(self):\n",
      "        p = Portfolio()\n",
      "        self.assertEqual(p.cost(), 0.0)\n",
      "\n",
      "    def test_buy_one_stock(self):\n",
      "        p = Portfolio()\n",
      "        p.buy(\"IBM\", 100, 176.)\n",
      "        self.assertEqual(p.cost(), 17648.0)\n",
      "\n",
      "    def test_buy_two_stocks(self):\n",
      "        p = Portfolio()\n",
      "        p.buy(\"IBM\", 100, 176.48)\n",
      "        p.buy(\"HPQ\", 100, 36.15)\n",
      "        self.assertEqual(p.cost(), 21263.0)\n"
     ],
     "language": "python",
     "metadata": {},
     "outputs": []
    },
    {
     "cell_type": "raw",
     "metadata": {},
     "source": [
      "L:\\dev\\testing\\python>python -m unittest test_port3_broken\n",
      "F..\n",
      "======================================================================\n",
      "FAIL: test_buy_one_stock (test_port3_broken.PortfolioTest)\n",
      "----------------------------------------------------------------------\n",
      "Traceback (most recent call last):\n",
      "  File \"test_port3_broken.py\", line 14, in test_buy_one_stock\n",
      "    self.assertEqual(p.cost(), 17648.0)\n",
      "AssertionError: 17600.0 != 17648.0\n",
      "\n",
      "----------------------------------------------------------------------\n",
      "Ran 3 tests in 0.000s\n",
      "\n",
      "FAILED (failures=1)"
     ]
    },
    {
     "cell_type": "heading",
     "level": 3,
     "metadata": {},
     "source": [
      "Lots of assert helpers"
     ]
    },
    {
     "cell_type": "raw",
     "metadata": {},
     "source": [
      "assertEqual(first, second)\n",
      "assertNotEqual(first, second)\n",
      "assertTrue(expr)\n",
      "assertFalse(expr)\n",
      "assertIn(first, second)\n",
      "assertNotIn(first, second)\n",
      "assertIs(first, second)\n",
      "assertIsNot(first, second)\n",
      "assertAlmostEqual(first, second)         ...floating point\n",
      "assertNotAlmostEqual(first, second)      ...floating point\n",
      "assertGreater(first, second)\n",
      "assertLess(first, second)\n",
      "assertRegexpMatches(text, regexp)        ...regex pattern\n",
      "assertRaises(exc_class, func, ...)\n",
      "assertSequenceEqual(seq1, seq2)\n",
      "assertItemsEqual(seq1, seq2)\n",
      "\n",
      "...etc..."
     ]
    },
    {
     "cell_type": "heading",
     "level": 3,
     "metadata": {},
     "source": [
      "Pro tip: Your own base class"
     ]
    },
    {
     "cell_type": "code",
     "collapsed": false,
     "input": [
      "%load test_port3b.py"
     ],
     "language": "python",
     "metadata": {},
     "outputs": [],
     "prompt_number": 37
    },
    {
     "cell_type": "code",
     "collapsed": false,
     "input": [
      "# test_port3b.py\n",
      "# write really good domain specific helpers\n",
      "# condense tests e.g. use one method to test two values\n",
      "\n",
      "\n",
      "import unittest\n",
      "from portfolio1 import Portfolio\n",
      "\n",
      "class PortfolioTestCase(unittest.TestCase):\n",
      "    \"\"\"Base class for all Portfolio tests.\"\"\"\n",
      "\n",
      "    def assertCostEqual(self, p, cost):\n",
      "        \"\"\"Assert that `p`'s cost is equal to `cost`.\"\"\"\n",
      "        self.assertEqual(p.cost(), cost)\n",
      "\n",
      "\n",
      "class PortfolioTest(PortfolioTestCase):\n",
      "    def test_empty(self):\n",
      "        p = Portfolio()\n",
      "        self.assertCostEqual(p, 0.0)\n",
      "\n",
      "    def test_buy_one_stock(self):\n",
      "        p = Portfolio()\n",
      "        p.buy(\"IBM\", 100, 176.48)\n",
      "        self.assertCostEqual(p, 17648.0)\n",
      "\n",
      "    def test_buy_two_stocks(self):\n",
      "        p = Portfolio()\n",
      "        p.buy(\"IBM\", 100, 176.48)\n",
      "        p.buy(\"HPQ\", 100, 36.15)\n",
      "        self.assertCostEqual(p, 21263.0)\n"
     ],
     "language": "python",
     "metadata": {},
     "outputs": []
    },
    {
     "cell_type": "raw",
     "metadata": {},
     "source": [
      "L:\\dev\\testing\\python>python -m unittest test_port3b\n",
      "...\n",
      "----------------------------------------------------------------------\n",
      "Ran 3 tests in 0.000s\n",
      "\n",
      "OK"
     ]
    },
    {
     "cell_type": "code",
     "collapsed": false,
     "input": [
      "%load test_port4.py"
     ],
     "language": "python",
     "metadata": {},
     "outputs": [],
     "prompt_number": 38
    },
    {
     "cell_type": "code",
     "collapsed": false,
     "input": [
      "# test_port4.py\n",
      "\n",
      "import unittest\n",
      "from portfolio1 import Portfolio\n",
      "\n",
      "class PortfolioTest(unittest.TestCase):\n",
      "    def test_empty(self):\n",
      "        p = Portfolio()\n",
      "        self.assertEqual(p.cost(), 0.0)\n",
      "\n",
      "    def test_buy_one_stock(self):\n",
      "        p = Portfolio()\n",
      "        p.buy(\"IBM\", 100, 176.48)\n",
      "        self.assertEqual(p.cost(), 17648.0)\n",
      "\n",
      "    def test_buy_two_stocks(self):\n",
      "        p = Portfolio()\n",
      "        p.buy(\"IBM\", 100, 176.48)\n",
      "        p.buy(\"HPQ\", 100, 36.15)\n",
      "        self.assertEqual(p.cost(), 21263.0)\n",
      "\n",
      "    def test_bad_input(self):\n",
      "        p = Portfolio()\n",
      "        with self.assertRaises(TypeError):\n",
      "            p.buy(\"IBM\")\n"
     ],
     "language": "python",
     "metadata": {},
     "outputs": [],
     "prompt_number": 40
    },
    {
     "cell_type": "raw",
     "metadata": {},
     "source": [
      "L:\\dev\\testing\\python>python -m unittest test_port4\n",
      "....\n",
      "----------------------------------------------------------------------\n",
      "Ran 4 tests in 0.001s\n",
      "\n",
      "OK"
     ]
    },
    {
     "cell_type": "code",
     "collapsed": false,
     "input": [
      "%load test_port4_broken.py"
     ],
     "language": "python",
     "metadata": {},
     "outputs": [],
     "prompt_number": 39
    },
    {
     "cell_type": "code",
     "collapsed": false,
     "input": [
      "# test_port4.py\n",
      "\n",
      "import unittest\n",
      "from portfolio1 import Portfolio\n",
      "\n",
      "class PortfolioTest(unittest.TestCase):\n",
      "    def test_empty(self):\n",
      "        p = Portfolio()\n",
      "        self.assertEqual(p.cost(), 0.0)\n",
      "\n",
      "    def test_buy_one_stock(self):\n",
      "        p = Portfolio()\n",
      "        p.buy(\"IBM\", 100, 176.48)\n",
      "        self.assertEqual(p.cost(), 17648.0)\n",
      "\n",
      "    def test_buy_two_stocks(self):\n",
      "        p = Portfolio()\n",
      "        p.buy(\"IBM\", 100, 176.48)\n",
      "        p.buy(\"HPQ\", 100, 36.15)\n",
      "        self.assertEqual(p.cost(), 21263.0)\n",
      "\n",
      "    def test_bad_input(self):\n",
      "        p = Portfolio()\n",
      "        # we can't have test raise an actual Exception\n",
      "        # when we call methods on the object we're testing\n",
      "        # since that will raise an exception and\n",
      "        # cause an Error in the test\n",
      "        p.buy(\"IBM\")\n"
     ],
     "language": "python",
     "metadata": {},
     "outputs": []
    },
    {
     "cell_type": "raw",
     "metadata": {},
     "source": [
      "L:\\dev\\testing\\python>python -m unittest test_port4_broken\n",
      "E...\n",
      "======================================================================\n",
      "ERROR: test_bad_input (test_port4_broken.PortfolioTest)\n",
      "----------------------------------------------------------------------\n",
      "Traceback (most recent call last):\n",
      "  File \"test_port4_broken.py\", line 24, in test_bad_input\n",
      "    p.buy(\"IBM\")\n",
      "TypeError: buy() takes exactly 4 arguments (2 given)\n",
      "\n",
      "----------------------------------------------------------------------\n",
      "Ran 4 tests in 0.000s\n",
      "\n",
      "FAILED (errors=1)"
     ]
    },
    {
     "cell_type": "code",
     "collapsed": false,
     "input": [
      "%load test_port4.py"
     ],
     "language": "python",
     "metadata": {},
     "outputs": [],
     "prompt_number": 42
    },
    {
     "cell_type": "code",
     "collapsed": false,
     "input": [
      "# test_port4.py\n",
      "\n",
      "import unittest\n",
      "from portfolio1 import Portfolio\n",
      "\n",
      "class PortfolioTest(unittest.TestCase):\n",
      "    def test_empty(self):\n",
      "        p = Portfolio()\n",
      "        self.assertEqual(p.cost(), 0.0)\n",
      "\n",
      "    def test_buy_one_stock(self):\n",
      "        p = Portfolio()\n",
      "        p.buy(\"IBM\", 100, 176.48)\n",
      "        self.assertEqual(p.cost(), 17648.0)\n",
      "\n",
      "    def test_buy_two_stocks(self):\n",
      "        p = Portfolio()\n",
      "        p.buy(\"IBM\", 100, 176.48)\n",
      "        p.buy(\"HPQ\", 100, 36.15)\n",
      "        self.assertEqual(p.cost(), 21263.0)\n",
      "\n",
      "    def test_bad_input(self):\n",
      "        p = Portfolio()\n",
      "        with self.assertRaises(TypeError):\n",
      "            p.buy(\"IBM\")\n"
     ],
     "language": "python",
     "metadata": {},
     "outputs": []
    },
    {
     "cell_type": "code",
     "collapsed": false,
     "input": [
      "# test_port5.py\n",
      "\n",
      "import unittest\n",
      "from portfolio2 import Portfolio\n",
      "\n",
      "class PortfolioTestCase(unittest.TestCase):\n",
      "    \"\"\"Base class for all Portfolio tests.\"\"\"\n",
      "\n",
      "    def assertCostEqual(self, p, cost):\n",
      "        \"\"\"Assert that `p`'s cost is equal to `cost`.\"\"\"\n",
      "        self.assertEqual(p.cost(), cost)\n",
      "\n",
      "\n",
      "class PortfolioTest(PortfolioTestCase):\n",
      "    def test_empty(self):\n",
      "        p = Portfolio()\n",
      "        self.assertCostEqual(p, 0.0)\n",
      "\n",
      "    def test_buy_one_stock(self):\n",
      "        p = Portfolio()\n",
      "        p.buy(\"IBM\", 100, 176.48)\n",
      "        self.assertCostEqual(p, 17648.0)\n",
      "\n",
      "    def test_buy_two_stocks(self):\n",
      "        p = Portfolio()\n",
      "        p.buy(\"IBM\", 100, 176.48)\n",
      "        p.buy(\"HPQ\", 100, 36.15)\n",
      "        self.assertCostEqual(p, 21263.0)\n",
      "\n",
      "    def test_bad_input(self):\n",
      "        p = Portfolio()\n",
      "        self.assertRaises(TypeError, p.buy, \"IBM\")\n",
      "\n",
      "class PortfolioSellTest(PortfolioTestCase):\n",
      "    def test_sell(self):\n",
      "        p = Portfolio()\n",
      "        p.buy(\"MSFT\", 100, 27.0)\n",
      "        p.buy(\"DELL\", 100, 17.0)\n",
      "        p.buy(\"ORCL\", 100, 34.0)\n",
      "        p.sell(\"MSFT\", 50)\n",
      "        self.assertCostEqual(p, 6450)\n",
      "\n",
      "    def test_not_enough(self):\n",
      "        p = Portfolio()             # Didn't I just do this?\n",
      "        p.buy(\"MSFT\", 100, 27.0)\n",
      "        p.buy(\"DELL\", 100, 17.0)\n",
      "        p.buy(\"ORCL\", 100, 34.0)\n",
      "        with self.assertRaises(ValueError):\n",
      "            p.sell(\"MSFT\", 200)\n",
      "\n",
      "    def test_dont_own_it(self):\n",
      "        p = Portfolio()             # What, again!?!?\n",
      "        p.buy(\"MSFT\", 100, 27.0)\n",
      "        p.buy(\"DELL\", 100, 17.0)\n",
      "        p.buy(\"ORCL\", 100, 34.0)\n",
      "        with self.assertRaises(ValueError):\n",
      "            p.sell(\"IBM\", 1)\n"
     ],
     "language": "python",
     "metadata": {},
     "outputs": []
    },
    {
     "cell_type": "code",
     "collapsed": false,
     "input": [],
     "language": "python",
     "metadata": {},
     "outputs": []
    }
   ],
   "metadata": {}
  }
 ]
}